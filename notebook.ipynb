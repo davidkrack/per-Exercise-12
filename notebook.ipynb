{
 "cells": [
  {
   "cell_type": "markdown",
   "id": "297ab2a4-b4e6-4cd1-84b1-29fb51831cf0",
   "metadata": {
    "tags": []
   },
   "source": [
    "# Final Project: Data Science Overview\n"
   ]
  },
  {
   "cell_type": "markdown",
   "id": "903c5166-a140-4765-ac46-cbaf553fd559",
   "metadata": {},
   "source": [
    "## Introduction\n",
    "This notebook aims to provide an overview of data science, including the languages, libraries, and tools commonly used in the field, alongside examples of basic arithmetic operations in Python.\n"
   ]
  },
  {
   "cell_type": "markdown",
   "id": "8f4e3775-9d87-4c9a-b10f-6bbf728806e0",
   "metadata": {},
   "source": [
    "## Data Science Languages\n",
    "The primary languages used in Data Science are:\n",
    "- Python\n",
    "- R\n",
    "- SQL\n",
    "- Julia\n",
    "- Scala\n"
   ]
  },
  {
   "cell_type": "markdown",
   "id": "d32cade1-c43e-42c9-839f-c6d2f6a3bd7a",
   "metadata": {},
   "source": [
    "## Data Science Libraries\n",
    "Some essential libraries for Data Science in Python include:\n",
    "- NumPy\n",
    "- pandas\n",
    "- Matplotlib\n",
    "- scikit-learn\n",
    "- TensorFlow\n",
    "- PyTorch\n"
   ]
  },
  {
   "cell_type": "markdown",
   "id": "7080ecd9-f680-427b-90ce-d4bb07e1dd7f",
   "metadata": {},
   "source": [
    "## Data Science Tools\n",
    "\n",
    "| Tool          | Category      | Description                               |\n",
    "|---------------|---------------|-------------------------------------------|\n",
    "| Jupyter       | IDE/Notebook  | Interactive computing and visualizations  |\n",
    "| GitHub        | Version Control | Code sharing and collaboration           |\n",
    "| Tableau       | Visualization | Data visualization software               |\n",
    "| SQL databases | Data Storage  | Storage and query of structured data      |\n",
    "| Apache Spark  | Big Data      | Large-scale data processing               |\n"
   ]
  },
  {
   "cell_type": "markdown",
   "id": "12197ede-d104-41f3-831a-ce342be73ab7",
   "metadata": {},
   "source": [
    "## Arithmetic Expression Examples\n",
    "Examples of arithmetic expressions in Python include addition, subtraction, multiplication, and division.\n"
   ]
  },
  {
   "cell_type": "code",
   "execution_count": 2,
   "id": "acb63e3a-a7cf-4851-8821-70d276fec08a",
   "metadata": {
    "tags": []
   },
   "outputs": [
    {
     "name": "stdout",
     "output_type": "stream",
     "text": [
      "23\n"
     ]
    }
   ],
   "source": [
    "# Multiply and add numbers\n",
    "result = (3 * 4) + (5 + 6)\n",
    "print(result)\n"
   ]
  },
  {
   "cell_type": "code",
   "execution_count": 3,
   "id": "1ad9b9ab-648a-4703-99c3-dc859f81bb63",
   "metadata": {
    "tags": []
   },
   "outputs": [
    {
     "name": "stdout",
     "output_type": "stream",
     "text": [
      "120 minutes is equal to 2.0 hours.\n"
     ]
    }
   ],
   "source": [
    "# Convert minutes to hours\n",
    "minutes = 120\n",
    "hours = minutes / 60\n",
    "print(f\"{minutes} minutes is equal to {hours} hours.\")\n"
   ]
  },
  {
   "cell_type": "markdown",
   "id": "00fca588-6a12-4272-822b-f5552138e4c6",
   "metadata": {},
   "source": [
    "## Objectives\n",
    "The main objectives of this notebook are to:\n",
    "- Understand the basics of data science languages and libraries.\n",
    "- Familiarize with data science tools.\n",
    "- Perform simple arithmetic operations in Python.\n"
   ]
  },
  {
   "cell_type": "markdown",
   "id": "60b23016-dbd9-413b-8eab-c71f65a416bc",
   "metadata": {},
   "source": [
    "## Author\n",
    "Created by David Candia\n"
   ]
  },
  {
   "cell_type": "code",
   "execution_count": null,
   "id": "4eb73f43-7a9e-4a4e-83e5-2f074ef6ff45",
   "metadata": {},
   "outputs": [],
   "source": []
  }
 ],
 "metadata": {
  "kernelspec": {
   "display_name": "Python",
   "language": "python",
   "name": "conda-env-python-py"
  },
  "language_info": {
   "codemirror_mode": {
    "name": "ipython",
    "version": 3
   },
   "file_extension": ".py",
   "mimetype": "text/x-python",
   "name": "python",
   "nbconvert_exporter": "python",
   "pygments_lexer": "ipython3",
   "version": "3.7.12"
  }
 },
 "nbformat": 4,
 "nbformat_minor": 5
}
